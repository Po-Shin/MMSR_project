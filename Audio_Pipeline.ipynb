{
 "cells": [
  {
   "cell_type": "code",
   "execution_count": 1,
   "metadata": {},
   "outputs": [],
   "source": [
    "import librosa\n",
    "import matplotlib.pyplot as plt\n",
    "# Instead of %matplotlib inline we use %matplotlib notebook this time.\n",
    "# This allows for more interactive examination of graphs, which will be useful\n",
    "# as you will manually inspect the results curves.\n",
    "%matplotlib inline\n",
    "from scipy.signal import resample\n",
    "from scipy.signal import find_peaks_cwt\n",
    "from scipy.spatial import distance\n",
    "\n",
    "from IPython.display import Audio\n",
    "import cv2\n",
    "import os\n",
    "import datetime\n",
    "import numpy as np\n",
    "import os\n",
    "import urllib\n",
    "import IPython\n",
    "import matplotlib.pyplot as plt\n",
    "import librosa.display\n",
    "import copy\n",
    "from scipy.io import wavfile\n",
    "from scipy.signal import butter, lfilter\n",
    "import scipy.ndimage"
   ]
  },
  {
   "cell_type": "code",
   "execution_count": 2,
   "metadata": {},
   "outputs": [],
   "source": [
    "from bokeh.plotting import figure, show\n",
    "from bokeh.io import output_notebook\n",
    "from bokeh.models import HoverTool"
   ]
  },
  {
   "cell_type": "code",
   "execution_count": null,
   "metadata": {},
   "outputs": [],
   "source": []
  },
  {
   "cell_type": "code",
   "execution_count": 43,
   "metadata": {},
   "outputs": [
    {
     "name": "stdout",
     "output_type": "stream",
     "text": [
      "['audio/nba_start0_end5.mp3\\n', 'audio/nba_start5_end10.mp3\\n', 'audio/nba_start10_end15.mp3\\n', 'audio/nba_start15_end20.mp3\\n', 'audio/nba_start20_end25.mp3\\n', 'audio/nba_start25_end27.mp3']\n",
      "audio/nba_start0_end5.mp3\n"
     ]
    }
   ],
   "source": [
    "# show the audio\n",
    "IPython.display.display(IPython.display.Audio(AUDIO_PATH))\n",
    "\n",
    "plt.figure(figsize=(180,2))\n",
    "librosa.display.waveplot(librosa.amplitude_to_db(audio_signal))\n",
    "\n",
    "threshold = 30\n",
    "for item in librosa.amplitude_to_db(audio_signal):\n",
    "    if item > threshold:\n",
    "        print(item)\n",
    "        \n",
    "plt.figure(figsize=(50,2))  \n",
    "sample_rate_set = sample_rate\n",
    "librosa.display.waveplot(audio_signal, sample_rate_set) \n",
    "plt.show()\n"
   ]
  },
  {
   "cell_type": "code",
   "execution_count": null,
   "metadata": {},
   "outputs": [],
   "source": [
    "from scipy.spatial.distance import pdist\n",
    "from scipy.spatial.distance import squareform\n",
    "\n",
    "def hs_histograms_similarity(hs_histogram0, hs_histogram1):\n",
    "  features_distance_metrics = {'intersection_area': lambda u, v: np.sum(np.min([u, v], 0)),\n",
    "                              'cityblock': 'cityblock',\n",
    "                              'seuclidean': 'seuclidean',\n",
    "                              'correlation':'correlation',\n",
    "                              'chebyshev': 'chebyshev',\n",
    "                              'euclidean': 'euclidean', } # NB: this is a similarity metric.\n",
    "  hist = np.matrix([hs_histogram0,hs_histogram1])\n",
    "  similarity = 1 - pdist(hist, features_distance_metrics['correlation'])\n",
    "  return similarity\n",
    "\n",
    "def next_pow_2(x):\n",
    "    \"\"\"Smallest next power of two of a given value x.\"\"\"\n",
    "    return 1 << (x - 1).bit_length()\n",
    "\n",
    "def compute_self_similarity(feature_vector_matrix, similarity_function = hs_histograms_similarity):\n",
    "  # TODO: implement. \n",
    "  # For calling the similarity function, you can just use similarity_function(first_vector, second_vector).\n",
    "  h, w = feature_vector_matrix.shape\n",
    "  self_similarity = np.zeros((h,h))\n",
    "  for i in range(h):\n",
    "    for j in range(h):\n",
    "      self_similarity[i,j] = similarity_function(feature_vector_matrix[i,:],feature_vector_matrix[j,:])\n",
    "      \n",
    "  return self_similarity\n",
    "\n",
    "def scale_vector(v):\n",
    "  return (v - np.min(v)) / (np.max(v) - np.min(v))"
   ]
  },
  {
   "cell_type": "code",
   "execution_count": 143,
   "metadata": {},
   "outputs": [
    {
     "name": "stdout",
     "output_type": "stream",
     "text": [
      "6\n",
      "audio/nba_start0_end5.mp3\n",
      "['audio/nba_start0_end5.mp3\\n', 'audio/nba_start5_end10.mp3\\n', 'audio/nba_start10_end15.mp3\\n', 'audio/nba_start15_end20.mp3\\n', 'audio/nba_start20_end25.mp3\\n', 'audio/nba_start25_end27.mp3']\n"
     ]
    }
   ],
   "source": [
    "with open('audio/files.txt', 'r') as f:\n",
    "    data = f.readlines()\n",
    "print(len(data))\n",
    "print(data[0][:-1])\n",
    "print(data)"
   ]
  },
  {
   "cell_type": "code",
   "execution_count": 144,
   "metadata": {},
   "outputs": [
    {
     "name": "stdout",
     "output_type": "stream",
     "text": [
      "audio/nba_start0_end5.mp3\n",
      "sample rate: 22050\n",
      "number of samples: 6615936\n",
      "duration: 0:05:00.042449\n",
      "300\n",
      "0 7\n",
      "0.5062770098447307\n",
      "0.05322931978012291\n",
      "-------------------------------\n",
      "0 41\n",
      "0.5318979569483459\n",
      "0.0880126702285601\n",
      "-------------------------------\n",
      "0 42\n",
      "0.5612946643518537\n",
      "0.08697036474305968\n",
      "-------------------------------\n",
      "audio/nba_start5_end10.mp3\n",
      "sample rate: 22050\n",
      "number of samples: 6615936\n",
      "duration: 0:05:00.042449\n",
      "300\n",
      "0 55\n",
      "0.5719148572097101\n",
      "0.05667769615768043\n",
      "-------------------------------\n",
      "0 58\n",
      "0.5168645431545748\n",
      "0.07030198823407831\n",
      "-------------------------------\n",
      "0 59\n",
      "0.5292367379839247\n",
      "0.10262768373610161\n",
      "-------------------------------\n",
      "1 0\n",
      "0.5150119353534985\n",
      "0.09699327046172872\n",
      "-------------------------------\n",
      "1 1\n",
      "0.5330912803825806\n",
      "0.10080938033895262\n",
      "-------------------------------\n",
      "1 25\n",
      "0.5337400076788661\n",
      "0.10932356434922348\n",
      "-------------------------------\n",
      "2 13\n",
      "0.5158946522952123\n",
      "0.04787198139548301\n",
      "-------------------------------\n",
      "2 15\n",
      "0.5572130078132137\n",
      "0.07463366327167437\n",
      "-------------------------------\n",
      "2 16\n",
      "0.5251243259580499\n",
      "0.09764061744925276\n",
      "-------------------------------\n",
      "2 17\n",
      "0.5383585356732284\n",
      "0.10212633851914368\n",
      "-------------------------------\n",
      "3 33\n",
      "0.5034074803666017\n",
      "0.05873752191645394\n",
      "-------------------------------\n",
      "3 35\n",
      "0.5167307121351756\n",
      "0.08089781006131688\n",
      "-------------------------------\n",
      "audio/nba_start10_end15.mp3\n",
      "sample rate: 22050\n",
      "number of samples: 6615936\n",
      "duration: 0:05:00.042449\n",
      "300\n",
      "2 33\n",
      "0.5089562402211657\n",
      "0.03155506951066274\n",
      "-------------------------------\n",
      "2 35\n",
      "0.5302226082870146\n",
      "0.0598373000748946\n",
      "-------------------------------\n",
      "3 30\n",
      "0.5442172556664457\n",
      "0.08512721304178845\n",
      "-------------------------------\n",
      "3 35\n",
      "0.5166029642455499\n",
      "0.10817771063762119\n",
      "-------------------------------\n",
      "audio/nba_start15_end20.mp3\n",
      "sample rate: 22050\n",
      "number of samples: 6615936\n",
      "duration: 0:05:00.042449\n",
      "300\n",
      "1 1\n",
      "0.5545293985938906\n",
      "0.056035433723695856\n",
      "-------------------------------\n",
      "3 24\n",
      "0.5409003584212563\n",
      "0.08911705439311426\n",
      "-------------------------------\n",
      "3 27\n",
      "0.5404397441226555\n",
      "0.09791376221106719\n",
      "-------------------------------\n",
      "3 51\n",
      "0.5851448764047328\n",
      "0.06900084282097037\n",
      "-------------------------------\n",
      "3 55\n",
      "0.5147174851475378\n",
      "0.08326263572404025\n",
      "-------------------------------\n",
      "audio/nba_start20_end25.mp3\n",
      "sample rate: 22050\n",
      "number of samples: 6615936\n",
      "duration: 0:05:00.042449\n",
      "300\n",
      "1 46\n",
      "0.5012702385299326\n",
      "0.05932909926497082\n",
      "-------------------------------\n",
      "3 52\n",
      "0.5550589774634919\n",
      "0.10721886065240195\n",
      "-------------------------------\n",
      "3 53\n",
      "0.521139195987036\n",
      "0.0815662366074909\n",
      "-------------------------------\n",
      "audio/nba_start25_end27.mp3\n",
      "sample rate: 22050\n",
      "number of samples: 3297024\n",
      "duration: 0:02:29.524898\n",
      "149\n",
      "0 2\n",
      "0.5395632123324308\n",
      "0.11683981434294596\n",
      "-------------------------------\n"
     ]
    }
   ],
   "source": [
    "highlight2 = []\n",
    "time = 0\n",
    "for i in range(len(data)):\n",
    "\n",
    "    if i != (len(data)-1):\n",
    "        AUDIO_PATH = data[i][:-1] #os.path.join('/home/xin/Downloads/MMSR_Project/', 'nba_cut.mp3')\n",
    "    else: \n",
    "        AUDIO_PATH = data[i]\n",
    "        \n",
    "    print(AUDIO_PATH)\n",
    "    \n",
    "    audio_signal, sample_rate = librosa.core.load(AUDIO_PATH)\n",
    "\n",
    "    # Audio duration (in seconds).\n",
    "    number_of_audio_samples = len(audio_signal)\n",
    "    audio_duration = float(number_of_audio_samples / float(sample_rate))\n",
    "    \n",
    "\n",
    "    print('sample rate: %d' % sample_rate)\n",
    "    print('number of samples: %d' % number_of_audio_samples)\n",
    "    print('duration: %s' % datetime.timedelta(seconds=audio_duration))\n",
    "\n",
    "\n",
    "    audio_frame_size = next_pow_2(int(sample_rate / 4.0))  # i.e., about 0.25 seconds.\n",
    "    audio_hop_size = int(audio_frame_size / 2.0)  # i.e., 50% overlap.\n",
    "    number_of_seconds = librosa.get_duration(audio_signal, sample_rate)\n",
    "\n",
    "    # idx = slice(*librosa.time_to_frames([30, 35], sr=sample_rate))\n",
    "    \n",
    "    S_full, phase = librosa.magphase(librosa.stft(audio_signal))\n",
    "    S_full = S_full\n",
    "    S_filter = librosa.decompose.nn_filter(S_full,\n",
    "                                           aggregate=np.median,\n",
    "                                           metric='cosine',\n",
    "                                           width=int(librosa.time_to_frames(1, sr=sample_rate)))\n",
    "\n",
    "    S_filter = np.minimum(S_full, S_filter)\n",
    "\n",
    "\n",
    "    margin_i, margin_v = 2, 10\n",
    "    power = 2\n",
    "\n",
    "    mask_i = librosa.util.softmask(S_filter,\n",
    "                                   margin_i * (S_full - S_filter),\n",
    "                                   power=power)\n",
    "\n",
    "    mask_v = librosa.util.softmask(S_full - S_filter,\n",
    "                                   margin_v * S_filter,\n",
    "                                   power=power)\n",
    "\n",
    "    # Once we have the masks, simply multiply them with the input spectrum\n",
    "    # to separate the components\n",
    "\n",
    "    S_foreground = mask_v * S_full\n",
    "    S_background = mask_i * S_full\n",
    "\n",
    "    S_full_recover = S_full * phase;\n",
    "    S_full_istft = librosa.istft(S_full_recover);\n",
    "\n",
    "\n",
    "    S_background_recover = S_background * phase;\n",
    "    S_background_istft = librosa.istft(S_background_recover);\n",
    "\n",
    "    S_foreground_recover = S_foreground * phase;\n",
    "    S_foreground_istft = librosa.istft(S_foreground_recover);\n",
    "\n",
    "    melspec = librosa.feature.melspectrogram(S_foreground_istft, sample_rate,  n_fft=1024, hop_length=512, n_mels=128)  \n",
    "    # convert to log scale  \n",
    "    logmelspec = librosa.power_to_db(melspec)  \n",
    "\n",
    "    mat = []\n",
    "    for i in range(int(logmelspec.shape[1]*512/sample_rate)):\n",
    "        sec = logmelspec[:,int(i * sample_rate/512 ): \n",
    "                         int((i + 1) * sample_rate/512)]\n",
    "        sec = scale_vector(sec)\n",
    "        mat.append(np.mean(sec, axis =1))\n",
    "\n",
    "    ##### SET THRESHOLD\n",
    "    threshold = 0.5 #-35\n",
    "    ran = int(logmelspec.shape[1]*512/sample_rate)\n",
    "    print(ran)\n",
    "\n",
    "    for i in range(ran):\n",
    "        m = np.mean(mat[i][20:100])\n",
    "        st = np.std(mat[i][20:100])\n",
    "        if  m > threshold:\n",
    "            highlight2.append(i+time)\n",
    "            print(i//60 , i % 60)\n",
    "            print(m)\n",
    "            print(st)\n",
    "            print('-------------------------------')\n",
    "            \n",
    "    time = time + audio_duration"
   ]
  },
  {
   "cell_type": "code",
   "execution_count": 145,
   "metadata": {},
   "outputs": [
    {
     "name": "stdout",
     "output_type": "stream",
     "text": [
      "28 15\n",
      "[7, 41, 355.0424489795918, 385.0424489795918, 433.0424489795918, 513.0424489795919, 753.0848979591836, 810.0848979591836, 815.0848979591836, 961.1273469387754, 1104.1273469387754, 1131.1273469387754, 1306.1697959183673, 1432.1697959183673, 1502.2122448979592]\n"
     ]
    }
   ],
   "source": [
    "highlight_2 = highlight2.copy()\n",
    "prev_time = 0\n",
    "for time in highlight2:\n",
    "    if time - prev_time < 5:\n",
    "        \n",
    "        highlight_2.remove(time)\n",
    "    prev_time = time    \n",
    "        \n",
    "\n",
    "print(len(highlight2),len(highlight_2))\n",
    "#print(highlight)\n",
    "print(highlight_2)"
   ]
  },
  {
   "cell_type": "code",
   "execution_count": 146,
   "metadata": {},
   "outputs": [],
   "source": [
    "highlight_1 = highlight_2\n",
    "file_list = []\n",
    "name_ = 'file '\n",
    "with open('files.txt','w') as f:\n",
    "    for idx,time in enumerate(highlight_1):\n",
    "        start = str(time-10)\n",
    "        end = str(time+3)\n",
    "        if idx != len(highlight_1):\n",
    "            file_name = name_+\"'video2/cut\"+str(idx)+\".mp4'\\n\"\n",
    "        else:\n",
    "            file_name = name_+\"'video2/cut\"+str(idx)+\".mp4'\\n\"\n",
    "        f.write(str(file_name))\n",
    "        "
   ]
  },
  {
   "cell_type": "code",
   "execution_count": 147,
   "metadata": {},
   "outputs": [
    {
     "data": {
      "text/plain": [
       "0"
      ]
     },
     "execution_count": 147,
     "metadata": {},
     "output_type": "execute_result"
    }
   ],
   "source": [
    "#!ffmpeg -ss 00:01:00 -i nba.mp4 -to 00:02:00 -c copy cut.mp4\n",
    "import ffmpeg\n",
    "import os\n",
    "file_list = []\n",
    "name_ = ' video2/cut'\n",
    "for idx,time in enumerate(highlight_1):\n",
    "    start = str(time-11)\n",
    "    if idx == 0:\n",
    "        if int(start) < 0:\n",
    "            start = str(0)\n",
    "    end = str(time+4)\n",
    "    \n",
    "    file_name = name_+str(idx)+'.mp4'\n",
    "    command = \"ffmpeg -ss \"+start+\" -to \" + end + \" -accurate_seek -i nba.mp4 -codec copy -avoid_negative_ts 1 \" + file_name\n",
    "    #print(command)\n",
    "    os.system(command)\n",
    "\n",
    "command_concat = \"ffmpeg -f concat -i files.txt -map 0 -fflags +genpts -c copy video2/movie3.mp4\"\n",
    "\n",
    "os.system(command_concat)"
   ]
  },
  {
   "cell_type": "code",
   "execution_count": null,
   "metadata": {},
   "outputs": [],
   "source": []
  },
  {
   "cell_type": "markdown",
   "metadata": {},
   "source": [
    "# Evaluation "
   ]
  },
  {
   "cell_type": "code",
   "execution_count": 148,
   "metadata": {},
   "outputs": [
    {
     "name": "stdout",
     "output_type": "stream",
     "text": [
      "23\n",
      "32\n",
      "highlight - 15\n",
      "[7, 41, 355, 385, 433, 513, 753, 810, 815, 961, 1104, 1131, 1306, 1432, 1502]\n"
     ]
    }
   ],
   "source": [
    "label1 = [9,257,313,360,437,629,674,714,755,787,814,987,1072,1133,1181,1236,1273,1295,1310,1364,1382,1416,1440]\n",
    "label2 = [24,65,86,94,121,147,242,271,416,448,500,629,656,673,810,821,842,956,1023,1084,1192,1208,1251,1268,1320,1340,1468,1513,1536,1567,1590,1602]\n",
    "print(len(label1))\n",
    "print(len(label2))\n",
    "\n",
    "highlight = [int(i) for i in highlight_1]\n",
    "print(\"highlight -\",str(len(highlight)))\n",
    "print(highlight)"
   ]
  },
  {
   "cell_type": "code",
   "execution_count": 151,
   "metadata": {},
   "outputs": [
    {
     "name": "stdout",
     "output_type": "stream",
     "text": [
      "[2, 3, 4, 5, 6, 7, 8, 9, 10, 11, 36, 37, 38, 39, 40, 41, 42, 43, 44, 45, 350, 351, 352, 353, 354, 355, 356, 357, 358, 359, 380, 381, 382, 383, 384, 385, 386, 387, 388, 389, 428, 429, 430, 431, 432, 433, 434, 435, 436, 437, 508, 509, 510, 511, 512, 513, 514, 515, 516, 517, 748, 749, 750, 751, 752, 753, 754, 755, 756, 757, 805, 806, 807, 808, 809, 810, 811, 812, 813, 814, 810, 811, 812, 813, 814, 815, 816, 817, 818, 819, 956, 957, 958, 959, 960, 961, 962, 963, 964, 965, 1099, 1100, 1101, 1102, 1103, 1104, 1105, 1106, 1107, 1108, 1126, 1127, 1128, 1129, 1130, 1131, 1132, 1133, 1134, 1135, 1301, 1302, 1303, 1304, 1305, 1306, 1307, 1308, 1309, 1310, 1427, 1428, 1429, 1430, 1431, 1432, 1433, 1434, 1435, 1436, 1497, 1498, 1499, 1500, 1501, 1502, 1503, 1504, 1505, 1506]\n"
     ]
    }
   ],
   "source": [
    "label_list = [list(range(i-5,i+5)) for i in label1]\n",
    "hl_list = [list(range(i-5,i+5)) for i in highlight]\n",
    "#highlight_1  \n",
    "\n",
    "def range2list(l):\n",
    "    a = []\n",
    "    for i in l:\n",
    "        a = a+i\n",
    "    #print(a)\n",
    "    return a\n",
    "\n",
    "label_range = range2list(label_list)\n",
    "hl_range = range2list(hl_list)\n",
    "print(hl_range)"
   ]
  },
  {
   "cell_type": "code",
   "execution_count": 152,
   "metadata": {
    "scrolled": true
   },
   "outputs": [
    {
     "name": "stdout",
     "output_type": "stream",
     "text": [
      "[True, False, False, False, True, False, False, False, True, False, True, False, False, True, False, False, False, False, True, False, False, False, False]\n",
      "23\n",
      "True Positive:  6\n",
      "False Negative:  17\n",
      "Recall:  0.2608695652173913\n"
     ]
    }
   ],
   "source": [
    "tr= [i in hl_range for i in label1]\n",
    "print(tr)\n",
    "print(len(tr))\n",
    "\n",
    "t_p = sum(tr)\n",
    "print(\"True Positive: \", str(t_p))\n",
    "f_n = len(label) - t_p\n",
    "print(\"False Negative: \", str(f_n))\n",
    "\n",
    "recall = t_p / (t_p+f_n)\n",
    "print(\"Recall: \", str(recall))"
   ]
  },
  {
   "cell_type": "code",
   "execution_count": 123,
   "metadata": {},
   "outputs": [
    {
     "name": "stdout",
     "output_type": "stream",
     "text": [
      "True\n"
     ]
    }
   ],
   "source": [
    "print(7 in hl_range)"
   ]
  },
  {
   "cell_type": "code",
   "execution_count": null,
   "metadata": {},
   "outputs": [],
   "source": []
  }
 ],
 "metadata": {
  "kernelspec": {
   "display_name": "Python 3",
   "language": "python",
   "name": "python3"
  },
  "language_info": {
   "codemirror_mode": {
    "name": "ipython",
    "version": 3
   },
   "file_extension": ".py",
   "mimetype": "text/x-python",
   "name": "python",
   "nbconvert_exporter": "python",
   "pygments_lexer": "ipython3",
   "version": "3.6.4"
  }
 },
 "nbformat": 4,
 "nbformat_minor": 2
}
