{
 "cells": [
  {
   "cell_type": "code",
   "execution_count": 6,
   "metadata": {},
   "outputs": [],
   "source": [
    "from pydub import AudioSegment\n",
    "import os, re"
   ]
  },
  {
   "cell_type": "code",
   "execution_count": null,
   "metadata": {},
   "outputs": [],
   "source": [
    "# cut a long audio into several 5 mins subset\n",
    "mins = 5\n",
    "name_ = 'audio/'\n",
    "with open('audio/files.txt','w') as f:\n",
    "    \n",
    "    for each in os.listdir('.'):\n",
    "        filename = re.findall(r\"(.*?)\\.mp3\", each)\n",
    "        if filename:\n",
    "            short_filename = filename[0]\n",
    "            filename[0] += '.mp3'\n",
    "            mp3 = AudioSegment.from_mp3(filename[0])\n",
    "            total_time = len(mp3)\n",
    "            for i in range((total_time // (mins*60*1000))):\n",
    "                name = name_ + short_filename + '_start0%d_end%d.mp3' % (i*mins, (i+1)*mins)\n",
    "                mp3[i*5*60*1000:(i+1)*5*60*1000].export(name,format=\"mp3\")\n",
    "                f.write(str(name)+'\\n')\n",
    "                   \n",
    "            name = name_ + short_filename + '_start%d_end%d.mp3' % ((i+1)*mins, total_time // (60*1000))\n",
    "            mp3[(i+1)*5*60*1000:].export(name,format=\"mp3\")\n",
    "            f.write(str(name))"
   ]
  },
  {
   "cell_type": "code",
   "execution_count": null,
   "metadata": {},
   "outputs": [],
   "source": []
  }
 ],
 "metadata": {
  "kernelspec": {
   "display_name": "Python 3",
   "language": "python",
   "name": "python3"
  },
  "language_info": {
   "codemirror_mode": {
    "name": "ipython",
    "version": 3
   },
   "file_extension": ".py",
   "mimetype": "text/x-python",
   "name": "python",
   "nbconvert_exporter": "python",
   "pygments_lexer": "ipython3",
   "version": "3.6.4"
  }
 },
 "nbformat": 4,
 "nbformat_minor": 2
}
